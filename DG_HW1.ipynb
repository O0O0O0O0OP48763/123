{
  "nbformat": 4,
  "nbformat_minor": 0,
  "metadata": {
    "colab": {
      "provenance": [],
      "authorship_tag": "ABX9TyMZFz2YkhS4cpxH/cK8h8K9",
      "include_colab_link": true
    },
    "kernelspec": {
      "name": "python3",
      "display_name": "Python 3"
    },
    "language_info": {
      "name": "python"
    }
  },
  "cells": [
    {
      "cell_type": "markdown",
      "metadata": {
        "id": "view-in-github",
        "colab_type": "text"
      },
      "source": [
        "<a href=\"https://colab.research.google.com/github/O0O0O0O0OP48763/123/blob/master/DG_HW1.ipynb\" target=\"_parent\"><img src=\"https://colab.research.google.com/assets/colab-badge.svg\" alt=\"Open In Colab\"/></a>"
      ]
    },
    {
      "cell_type": "code",
      "execution_count": 4,
      "metadata": {
        "colab": {
          "base_uri": "https://localhost:8080/"
        },
        "id": "Wd5d9_tNF6Pu",
        "outputId": "7ea1c168-cc57-43f2-ac24-bb4128052f6a"
      },
      "outputs": [
        {
          "output_type": "stream",
          "name": "stdout",
          "text": [
            "積分矩陣 I_{ij}^n:\n",
            "區間 1:\n",
            "[[ 0.00000000e+00  0.00000000e+00  0.00000000e+00  0.00000000e+00]\n",
            " [ 2.00000000e+00 -3.70074342e-17 -3.33066907e-16  1.11022302e-16]\n",
            " [ 0.00000000e+00  2.00000000e+00  0.00000000e+00 -2.96059473e-16]\n",
            " [ 2.00000000e+00  0.00000000e+00  2.00000000e+00 -2.22044605e-16]]\n",
            "區間 2:\n",
            "[[ 0.00000000e+00  0.00000000e+00  0.00000000e+00  0.00000000e+00]\n",
            " [ 2.00000000e+00 -3.70074342e-17 -3.33066907e-16  1.11022302e-16]\n",
            " [ 0.00000000e+00  2.00000000e+00  0.00000000e+00 -2.96059473e-16]\n",
            " [ 2.00000000e+00  0.00000000e+00  2.00000000e+00 -2.22044605e-16]]\n",
            "區間 3:\n",
            "[[ 0.00000000e+00  0.00000000e+00  0.00000000e+00  0.00000000e+00]\n",
            " [ 2.00000000e+00  3.70074342e-17 -3.33066907e-16  7.40148683e-17]\n",
            " [ 0.00000000e+00  2.00000000e+00  0.00000000e+00 -2.22044605e-16]\n",
            " [ 2.00000000e+00  0.00000000e+00  2.00000000e+00 -2.22044605e-16]]\n",
            "區間 4:\n",
            "[[ 0.00000000e+00  0.00000000e+00  0.00000000e+00  0.00000000e+00]\n",
            " [ 2.00000000e+00  0.00000000e+00 -2.96059473e-16  5.55111512e-17]\n",
            " [ 0.00000000e+00  2.00000000e+00 -7.40148683e-17 -2.96059473e-16]\n",
            " [ 2.00000000e+00  0.00000000e+00  2.00000000e+00 -2.96059473e-16]]\n",
            "區間 5:\n",
            "[[ 0.00000000e+00  0.00000000e+00  0.00000000e+00  0.00000000e+00]\n",
            " [ 2.00000000e+00  0.00000000e+00 -2.96059473e-16  5.55111512e-17]\n",
            " [ 0.00000000e+00  2.00000000e+00 -7.40148683e-17 -2.96059473e-16]\n",
            " [ 2.00000000e+00  0.00000000e+00  2.00000000e+00 -2.96059473e-16]]\n",
            "區間 6:\n",
            "[[ 0.00000000e+00  0.00000000e+00  0.00000000e+00  0.00000000e+00]\n",
            " [ 2.00000000e+00  0.00000000e+00 -2.96059473e-16  7.40148683e-17]\n",
            " [ 1.48029737e-16  2.00000000e+00  0.00000000e+00 -2.96059473e-16]\n",
            " [ 2.00000000e+00  0.00000000e+00  2.00000000e+00 -2.22044605e-16]]\n"
          ]
        }
      ],
      "source": [
        "import numpy as np\n",
        "import scipy.special as sp\n",
        "from numpy.polynomial.legendre import leggauss\n",
        "\n",
        "def compute_integral(n_intervals, poly_order):\n",
        "    \"\"\"\n",
        "    計算積分 I_{ij}^n = ∫_{I^n} φ_j(t) φ_i'(t) dt 使用 Gauss-Legendre 積分\n",
        "\n",
        "    :param n_intervals: 區間數量 N\n",
        "    :param poly_order: Legendre 多項式最高階數\n",
        "    :return: I 矩陣 (n_intervals, poly_order+1, poly_order+1)\n",
        "    \"\"\"\n",
        "    x_nodes = np.linspace(0, 2, n_intervals + 1)  # 劃分區間節點\n",
        "    I_matrix = np.zeros((n_intervals, poly_order + 1, poly_order + 1))  # 儲存每個區間的積分矩陣\n",
        "\n",
        "    # Gauss-Legendre 積分點與權重\n",
        "    gauss_x, gauss_w = leggauss(poly_order + 1)  # 使用 (poly_order+1) 個積分點\n",
        "\n",
        "    for k in range(n_intervals):\n",
        "        x_k, x_kp1 = x_nodes[k], x_nodes[k + 1]\n",
        "        h = x_kp1 - x_k  # 區間長度\n",
        "\n",
        "        for i in range(poly_order + 1):\n",
        "            P_i = sp.legendre(i)  # P_i(x)\n",
        "            dP_i = P_i.deriv()    # P_i'(x)\n",
        "\n",
        "            for j in range(poly_order + 1):\n",
        "                P_j = sp.legendre(j)  # P_j(x)\n",
        "\n",
        "                # 使用 Gauss-Legendre 積分\n",
        "                integral = 0.0\n",
        "                for q in range(len(gauss_x)):\n",
        "                    xi = gauss_x[q]  # [-1,1] 上的積分點\n",
        "                    t = x_k + (xi + 1) * h / 2  # 對應回 [x_k, x_kp1]\n",
        "                    phi_j = P_j(xi)  # P_j(T(t))\n",
        "                    phi_i_prime = (2 / h) * dP_i(xi)  # d/dt[P_i(T(t))] = (2/h) P_i'(ξ)\n",
        "                    integral += gauss_w[q] * phi_j * phi_i_prime  # 加總加權積分值\n",
        "\n",
        "                integral *= h / 2  # 調整積分區間對應的權重\n",
        "\n",
        "                I_matrix[k, i, j] = integral  # 儲存結果\n",
        "\n",
        "    return I_matrix\n",
        "\n",
        "# 測試\n",
        "n_intervals = 6  # 4 個子區間\n",
        "poly_order = 3   # 最高階為 2 的 Legendre 多項式\n",
        "I_result = compute_integral(n_intervals, poly_order)\n",
        "\n",
        "# 顯示計算結果\n",
        "print(\"積分矩陣 I_{ij}^n:\")\n",
        "for k in range(n_intervals):\n",
        "    print(f\"區間 {k+1}:\")\n",
        "    print(I_result[k])\n"
      ]
    },
    {
      "cell_type": "code",
      "source": [
        "import numpy as np\n",
        "import scipy.special as sp\n",
        "from numpy.polynomial.legendre import leggauss\n",
        "\n",
        "def compute_integral_f_phi(n_intervals, poly_order, f):\n",
        "    \"\"\"\n",
        "    計算 I_i^n = ∫_{I^n} f(t) φ_i(t) dt 使用 Gauss-Legendre 積分\n",
        "\n",
        "    :param n_intervals: 區間數量\n",
        "    :param poly_order: Legendre 多項式最高階數\n",
        "    :param f: 目標函數 f(t)\n",
        "    :return: I 矩陣 (n_intervals, poly_order+1)\n",
        "    \"\"\"\n",
        "    x_nodes = np.linspace(0, 2, n_intervals + 1)  # 劃分區間\n",
        "    I_matrix = np.zeros((n_intervals, poly_order + 1))  # 存儲積分結果\n",
        "\n",
        "    # Gauss-Legendre 積分點與權重\n",
        "    gauss_x, gauss_w = leggauss(poly_order + 1)  # 使用 (poly_order+1) 個積分點\n",
        "\n",
        "    for k in range(n_intervals):\n",
        "        x_k, x_kp1 = x_nodes[k], x_nodes[k + 1]\n",
        "        h = x_kp1 - x_k  # 區間長度\n",
        "\n",
        "        # 變換回原本區間 I^n 的函數\n",
        "        t_values = 0.5 * h * (gauss_x + 1) + x_k  # T^{-1}(ξ)\n",
        "\n",
        "        for i in range(poly_order + 1):\n",
        "            P_i_values = sp.legendre(i)(gauss_x)  # 計算 φ_i(ξ)\n",
        "            integral = np.sum(gauss_w * f(t_values) * P_i_values) * (h / 2)  # Gauss-Legendre 積分\n",
        "            I_matrix[k, i] = integral  # 儲存結果\n",
        "\n",
        "    return I_matrix\n",
        "\n",
        "# 測試\n",
        "n_intervals = 4  # 4 個子區間\n",
        "poly_order = 2   # 最高階為 2 的 Legendre 多項式\n",
        "f = lambda t: np.exp(t)  # f(t) = e^t\n",
        "I_result = compute_integral_f_phi(n_intervals, poly_order, f)\n",
        "\n",
        "# 顯示計算結果\n",
        "print(\"積分結果 I_i^n:\")\n",
        "for k in range(n_intervals):\n",
        "    print(f\"區間 {k+1}: {I_result[k]}\")\n"
      ],
      "metadata": {
        "id": "-xrEZXSqGSqX",
        "colab": {
          "base_uri": "https://localhost:8080/"
        },
        "outputId": "92e9283b-e280-4574-e112-1c5d4d389f48"
      },
      "execution_count": 5,
      "outputs": [
        {
          "output_type": "stream",
          "name": "stdout",
          "text": [
            "積分結果 I_i^n:\n",
            "區間 1: [0.64872127 0.05383607 0.00268342]\n",
            "區間 2: [1.06956055 0.08876067 0.00442422]\n",
            "區間 3: [1.76340723 0.14634161 0.0072943 ]\n",
            "區間 4: [2.90736701 0.24127652 0.01202627]\n"
          ]
        }
      ]
    },
    {
      "cell_type": "code",
      "source": [],
      "metadata": {
        "id": "XnhkFzvqY3lI"
      },
      "execution_count": null,
      "outputs": []
    }
  ]
}