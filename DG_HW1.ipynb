{
  "nbformat": 4,
  "nbformat_minor": 0,
  "metadata": {
    "colab": {
      "provenance": [],
      "authorship_tag": "ABX9TyN5vy/KXBDmxtnztLE9WzM4",
      "include_colab_link": true
    },
    "kernelspec": {
      "name": "python3",
      "display_name": "Python 3"
    },
    "language_info": {
      "name": "python"
    }
  },
  "cells": [
    {
      "cell_type": "markdown",
      "metadata": {
        "id": "view-in-github",
        "colab_type": "text"
      },
      "source": [
        "<a href=\"https://colab.research.google.com/github/O0O0O0O0OP48763/123/blob/master/DG_HW1.ipynb\" target=\"_parent\"><img src=\"https://colab.research.google.com/assets/colab-badge.svg\" alt=\"Open In Colab\"/></a>"
      ]
    },
    {
      "cell_type": "code",
      "execution_count": 4,
      "metadata": {
        "colab": {
          "base_uri": "https://localhost:8080/"
        },
        "id": "Wd5d9_tNF6Pu",
        "outputId": "7ea1c168-cc57-43f2-ac24-bb4128052f6a"
      },
      "outputs": [
        {
          "output_type": "stream",
          "name": "stdout",
          "text": [
            "積分矩陣 I_{ij}^n:\n",
            "區間 1:\n",
            "[[ 0.00000000e+00  0.00000000e+00  0.00000000e+00  0.00000000e+00]\n",
            " [ 2.00000000e+00 -3.70074342e-17 -3.33066907e-16  1.11022302e-16]\n",
            " [ 0.00000000e+00  2.00000000e+00  0.00000000e+00 -2.96059473e-16]\n",
            " [ 2.00000000e+00  0.00000000e+00  2.00000000e+00 -2.22044605e-16]]\n",
            "區間 2:\n",
            "[[ 0.00000000e+00  0.00000000e+00  0.00000000e+00  0.00000000e+00]\n",
            " [ 2.00000000e+00 -3.70074342e-17 -3.33066907e-16  1.11022302e-16]\n",
            " [ 0.00000000e+00  2.00000000e+00  0.00000000e+00 -2.96059473e-16]\n",
            " [ 2.00000000e+00  0.00000000e+00  2.00000000e+00 -2.22044605e-16]]\n",
            "區間 3:\n",
            "[[ 0.00000000e+00  0.00000000e+00  0.00000000e+00  0.00000000e+00]\n",
            " [ 2.00000000e+00  3.70074342e-17 -3.33066907e-16  7.40148683e-17]\n",
            " [ 0.00000000e+00  2.00000000e+00  0.00000000e+00 -2.22044605e-16]\n",
            " [ 2.00000000e+00  0.00000000e+00  2.00000000e+00 -2.22044605e-16]]\n",
            "區間 4:\n",
            "[[ 0.00000000e+00  0.00000000e+00  0.00000000e+00  0.00000000e+00]\n",
            " [ 2.00000000e+00  0.00000000e+00 -2.96059473e-16  5.55111512e-17]\n",
            " [ 0.00000000e+00  2.00000000e+00 -7.40148683e-17 -2.96059473e-16]\n",
            " [ 2.00000000e+00  0.00000000e+00  2.00000000e+00 -2.96059473e-16]]\n",
            "區間 5:\n",
            "[[ 0.00000000e+00  0.00000000e+00  0.00000000e+00  0.00000000e+00]\n",
            " [ 2.00000000e+00  0.00000000e+00 -2.96059473e-16  5.55111512e-17]\n",
            " [ 0.00000000e+00  2.00000000e+00 -7.40148683e-17 -2.96059473e-16]\n",
            " [ 2.00000000e+00  0.00000000e+00  2.00000000e+00 -2.96059473e-16]]\n",
            "區間 6:\n",
            "[[ 0.00000000e+00  0.00000000e+00  0.00000000e+00  0.00000000e+00]\n",
            " [ 2.00000000e+00  0.00000000e+00 -2.96059473e-16  7.40148683e-17]\n",
            " [ 1.48029737e-16  2.00000000e+00  0.00000000e+00 -2.96059473e-16]\n",
            " [ 2.00000000e+00  0.00000000e+00  2.00000000e+00 -2.22044605e-16]]\n"
          ]
        }
      ],
      "source": [
        "import numpy as np\n",
        "import scipy.special as sp\n",
        "from numpy.polynomial.legendre import leggauss\n",
        "\n",
        "def compute_integral(n_intervals, poly_order):\n",
        "    \"\"\"\n",
        "    計算積分 I_{ij}^n = ∫_{I^n} φ_j(t) φ_i'(t) dt 使用 Gauss-Legendre 積分\n",
        "\n",
        "    :param n_intervals: 區間數量 N\n",
        "    :param poly_order: Legendre 多項式最高階數\n",
        "    :return: I 矩陣 (n_intervals, poly_order+1, poly_order+1)\n",
        "    \"\"\"\n",
        "    x_nodes = np.linspace(0, 2, n_intervals + 1)  # 劃分區間節點\n",
        "    I_matrix = np.zeros((n_intervals, poly_order + 1, poly_order + 1))  # 儲存每個區間的積分矩陣\n",
        "\n",
        "    # Gauss-Legendre 積分點與權重\n",
        "    gauss_x, gauss_w = leggauss(poly_order + 1)  # 使用 (poly_order+1) 個積分點\n",
        "\n",
        "    for k in range(n_intervals):\n",
        "        x_k, x_kp1 = x_nodes[k], x_nodes[k + 1]\n",
        "        h = x_kp1 - x_k  # 區間長度\n",
        "\n",
        "        for i in range(poly_order + 1):\n",
        "            P_i = sp.legendre(i)  # P_i(x)\n",
        "            dP_i = P_i.deriv()    # P_i'(x)\n",
        "\n",
        "            for j in range(poly_order + 1):\n",
        "                P_j = sp.legendre(j)  # P_j(x)\n",
        "\n",
        "                # 使用 Gauss-Legendre 積分\n",
        "                integral = 0.0\n",
        "                for q in range(len(gauss_x)):\n",
        "                    xi = gauss_x[q]  # [-1,1] 上的積分點\n",
        "                    t = x_k + (xi + 1) * h / 2  # 對應回 [x_k, x_kp1]\n",
        "                    phi_j = P_j(xi)  # P_j(T(t))\n",
        "                    phi_i_prime = (2 / h) * dP_i(xi)  # d/dt[P_i(T(t))] = (2/h) P_i'(ξ)\n",
        "                    integral += gauss_w[q] * phi_j * phi_i_prime  # 加總加權積分值\n",
        "\n",
        "                integral *= h / 2  # 調整積分區間對應的權重\n",
        "\n",
        "                I_matrix[k, i, j] = integral  # 儲存結果\n",
        "\n",
        "    return I_matrix\n",
        "\n",
        "# 測試\n",
        "n_intervals = 6  # 6 個子區間\n",
        "poly_order = 3   # 最高階為 3 的 Legendre 多項式\n",
        "I_result = compute_integral(n_intervals, poly_order)\n",
        "\n",
        "# 顯示計算結果\n",
        "print(\"積分矩陣 I_{ij}^n:\")\n",
        "for k in range(n_intervals):\n",
        "    print(f\"區間 {k+1}:\")\n",
        "    print(I_result[k])\n"
      ]
    },
    {
      "cell_type": "code",
      "source": [
        "import numpy as np\n",
        "import scipy.special as sp\n",
        "from numpy.polynomial.legendre import leggauss\n",
        "\n",
        "def compute_integral_f_phi(n_intervals, poly_order, f):\n",
        "    \"\"\"\n",
        "    計算 I_i^n = ∫_{I^n} f(t) φ_i(t) dt 使用 Gauss-Legendre 積分\n",
        "\n",
        "    :param n_intervals: 區間數量\n",
        "    :param poly_order: Legendre 多項式最高階數\n",
        "    :param f: 目標函數 f(t)\n",
        "    :return: I 矩陣 (n_intervals, poly_order+1)\n",
        "    \"\"\"\n",
        "    x_nodes = np.linspace(0, 2, n_intervals + 1)  # 劃分區間\n",
        "    I_matrix = np.zeros((n_intervals, poly_order + 1))  # 存儲積分結果\n",
        "\n",
        "    # Gauss-Legendre 積分點與權重\n",
        "    gauss_x, gauss_w = leggauss(poly_order + 1)  # 使用 (poly_order+1) 個積分點\n",
        "\n",
        "    for k in range(n_intervals):\n",
        "        x_k, x_kp1 = x_nodes[k], x_nodes[k + 1]\n",
        "        h = x_kp1 - x_k  # 區間長度\n",
        "\n",
        "        # 變換回原本區間 I^n 的函數\n",
        "        t_values = 0.5 * h * (gauss_x + 1) + x_k  # T^{-1}(ξ)\n",
        "\n",
        "        for i in range(poly_order + 1):\n",
        "            P_i_values = sp.legendre(i)(gauss_x)  # 計算 φ_i(ξ)\n",
        "            integral = np.sum(gauss_w * f(t_values) * P_i_values) * (h / 2)  # Gauss-Legendre 積分\n",
        "            I_matrix[k, i] = integral  # 儲存結果\n",
        "\n",
        "    return I_matrix\n",
        "\n",
        "# 測試\n",
        "n_intervals = 4  # 4 個子區間\n",
        "poly_order = 2   # 最高階為 2 的 Legendre 多項式\n",
        "f = lambda t: np.exp(t)  # f(t) = e^t\n",
        "I_result = compute_integral_f_phi(n_intervals, poly_order, f)\n",
        "\n",
        "# 顯示計算結果\n",
        "print(\"積分結果 I_i^n:\")\n",
        "for k in range(n_intervals):\n",
        "    print(f\"區間 {k+1}: {I_result[k]}\")\n"
      ],
      "metadata": {
        "id": "-xrEZXSqGSqX",
        "colab": {
          "base_uri": "https://localhost:8080/"
        },
        "outputId": "92e9283b-e280-4574-e112-1c5d4d389f48"
      },
      "execution_count": 5,
      "outputs": [
        {
          "output_type": "stream",
          "name": "stdout",
          "text": [
            "積分結果 I_i^n:\n",
            "區間 1: [0.64872127 0.05383607 0.00268342]\n",
            "區間 2: [1.06956055 0.08876067 0.00442422]\n",
            "區間 3: [1.76340723 0.14634161 0.0072943 ]\n",
            "區間 4: [2.90736701 0.24127652 0.01202627]\n"
          ]
        }
      ]
    },
    {
      "cell_type": "code",
      "source": [
        "import numpy as np\n",
        "import scipy.special as sp\n",
        "from numpy.polynomial.legendre import leggauss\n",
        "\n",
        "def compute_dg_projection(n_intervals, poly_order, f):\n",
        "    \"\"\"\n",
        "    計算 DG 投影的係數與重構函數 f_N^n(x)\n",
        "    \"\"\"\n",
        "    x_nodes = np.linspace(0, 2, n_intervals + 1)\n",
        "    c_kn = np.zeros((n_intervals, poly_order + 1))\n",
        "\n",
        "    # Gauss-Legendre 積分點與權重\n",
        "    gauss_x, gauss_w = leggauss(poly_order + 1)\n",
        "\n",
        "    for k in range(n_intervals):\n",
        "        x_k, x_kp1 = x_nodes[k], x_nodes[k + 1]\n",
        "        h = x_kp1 - x_k\n",
        "\n",
        "        t_values = 0.5 * h * (gauss_x + 1) + x_k  # 對應區間上的 x 值\n",
        "\n",
        "        for i in range(poly_order + 1):\n",
        "            P_i_values = sp.legendre(i)(gauss_x)  # 計算 φ_i(ξ)\n",
        "            integral = np.sum(gauss_w * f(t_values) * P_i_values) * (h / 2)\n",
        "            c_kn[k, i] = integral  # 係數計算\n",
        "\n",
        "    return x_nodes, c_kn\n",
        "\n",
        "def reconstruct_f_projection(x, k, x_nodes, c_kn, poly_order):\n",
        "    \"\"\" 使用 DG 係數重建 f_N^n(x) \"\"\"\n",
        "    x_k, x_kp1 = x_nodes[k], x_nodes[k + 1]\n",
        "    h = x_kp1 - x_k\n",
        "    xi = 2 * (x - x_k) / h - 1  # 轉換到標準 [-1,1]\n",
        "    return sum(c_kn[k, i] * sp.legendre(i)(xi) for i in range(poly_order + 1))\n",
        "\n",
        "def compute_L2_error(n_intervals, poly_order, f, x_nodes, c_kn):\n",
        "    \"\"\" 計算 L^2 誤差 \"\"\"\n",
        "    error_sq = 0.0\n",
        "    gauss_x, gauss_w = leggauss(poly_order + 1)\n",
        "\n",
        "    for k in range(n_intervals):\n",
        "        x_k, x_kp1 = x_nodes[k], x_nodes[k + 1]\n",
        "        h = x_kp1 - x_k\n",
        "        t_values = 0.5 * h * (gauss_x + 1) + x_k\n",
        "\n",
        "        f_exact = f(t_values)\n",
        "        f_proj = np.array([reconstruct_f_projection(t, k, x_nodes, c_kn, poly_order) for t in t_values])\n",
        "\n",
        "        error_sq += np.sum(gauss_w * (f_exact - f_proj) ** 2) * (h / 2)\n",
        "\n",
        "    return np.sqrt(error_sq)\n",
        "\n",
        "# 參數設定\n",
        "n_intervals = 4\n",
        "poly_order = 2\n",
        "f = lambda x: np.exp(x)\n",
        "\n",
        "# 計算投影函數\n",
        "x_nodes, c_kn = compute_dg_projection(n_intervals, poly_order, f)\n",
        "\n",
        "# 計算 L2 誤差\n",
        "L2_error = compute_L2_error(n_intervals, poly_order, f, x_nodes, c_kn)\n",
        "print(f\"L^2 誤差: {L2_error:.6f}\")\n"
      ],
      "metadata": {
        "id": "XnhkFzvqY3lI",
        "colab": {
          "base_uri": "https://localhost:8080/"
        },
        "outputId": "a85a19e2-6731-4b8d-cade-6313f25f2d41"
      },
      "execution_count": 6,
      "outputs": [
        {
          "output_type": "stream",
          "name": "stdout",
          "text": [
            "L^2 誤差: 2.634788\n"
          ]
        }
      ]
    },
    {
      "cell_type": "code",
      "source": [
        "import numpy as np\n",
        "import scipy.special as sp\n",
        "import scipy.integrate as spi\n",
        "import matplotlib.pyplot as plt\n",
        "\n",
        "def f(x):\n",
        "    \"\"\"原函數 e^x\"\"\"\n",
        "    return np.exp(x)\n",
        "\n",
        "def compute_dg_coefficients(n, N):\n",
        "    \"\"\"計算 DG 投影的係數 c_kn\"\"\"\n",
        "    x_nodes = np.linspace(0, 2, n + 1)\n",
        "    c_kn = np.zeros((n, N + 1))\n",
        "\n",
        "    for k in range(n):\n",
        "        x_k, x_kp1 = x_nodes[k], x_nodes[k + 1]\n",
        "        h = x_kp1 - x_k\n",
        "\n",
        "        for m in range(N + 1):\n",
        "            Pm = lambda x: sp.legendre(m)(2 * (x - x_k) / h - 1)\n",
        "            integral, _ = spi.quad(lambda x: f(x) * Pm(x), x_k, x_kp1)\n",
        "            c_kn[k, m] = (2 * m + 1) / h * integral\n",
        "\n",
        "    return x_nodes, c_kn\n",
        "\n",
        "def f_proj(x, k, c_kn, x_k, x_kp1, N):\n",
        "    \"\"\"在區間 [x_k, x_kp1] 上計算投影函數\"\"\"\n",
        "    h = x_kp1 - x_k\n",
        "    xi = 2 * (x - x_k) / h - 1\n",
        "    return sum(c_kn[k, m] * sp.legendre(m)(xi) for m in range(N + 1))\n",
        "\n",
        "def compute_L2_error(f, f_proj, c_kn, x_nodes, N):\n",
        "    \"\"\"計算 L2 誤差\"\"\"\n",
        "    error_sq = 0.0\n",
        "\n",
        "    for k in range(len(x_nodes) - 1):\n",
        "        x_k, x_kp1 = x_nodes[k], x_nodes[k + 1]\n",
        "        error_func = lambda x: (f(x) - f_proj(x, k, c_kn, x_k, x_kp1, N))**2\n",
        "        integral, _ = spi.quad(error_func, x_k, x_kp1)\n",
        "        error_sq += integral\n",
        "\n",
        "    return np.sqrt(error_sq)\n",
        "\n",
        "def compute_nodal_error(f, f_proj, x_nodes, c_kn, N):\n",
        "    \"\"\"計算 nodal error\"\"\"\n",
        "    x_test = np.linspace(0, 2, 100)\n",
        "    errors = [abs(f(x) - f_proj(x, k, c_kn, x_nodes[k], x_nodes[k+1], N))\n",
        "              for x in x_test for k in range(len(x_nodes)-1) if x_nodes[k] <= x < x_nodes[k+1]]\n",
        "    return max(errors)\n",
        "\n",
        "def compute_convergence_rate(errors, n_values):\n",
        "    \"\"\"計算收斂率\"\"\"\n",
        "    rates = []\n",
        "    for i in range(len(n_values) - 1):\n",
        "        rate = (np.log(errors[i+1]) - np.log(errors[i])) / (np.log(n_values[i+1]) - np.log(n_values[i]))\n",
        "        rates.append(rate)\n",
        "    return rates\n",
        "\n",
        "# 設定不同的 n 值\n",
        "N = 2\n",
        "n_values = [2, 4, 8, 16, 32, 64]\n",
        "L2_errors = []\n",
        "nodal_errors = []\n",
        "\n",
        "for n in n_values:\n",
        "    x_nodes, c_kn = compute_dg_coefficients(n, N)\n",
        "    L2_error = compute_L2_error(f, f_proj, c_kn, x_nodes, N)\n",
        "    nodal_error = compute_nodal_error(f, f_proj, x_nodes, c_kn, N)\n",
        "    L2_errors.append(L2_error)\n",
        "    nodal_errors.append(nodal_error)\n",
        "\n",
        "# 計算收斂率\n",
        "L2_rates = compute_convergence_rate(L2_errors, n_values)\n",
        "nodal_rates = compute_convergence_rate(nodal_errors, n_values)\n",
        "\n",
        "# 繪製誤差與收斂率\n",
        "plt.figure(figsize=(8,6))\n",
        "plt.loglog(n_values, L2_errors, marker='o', linestyle='-', color='b', label='L2 Error')\n",
        "plt.loglog(n_values, nodal_errors, marker='s', linestyle='--', color='r', label='Nodal Error')\n",
        "plt.xticks(n_values, labels=n_values)\n",
        "\n",
        "# 標示收斂率\n",
        "for i in range(len(L2_rates)):\n",
        "    x_pos = (n_values[i] + n_values[i+1]) / 2\n",
        "    y_pos_L2 = np.sqrt(L2_errors[i] * L2_errors[i+1])\n",
        "    y_pos_nodal = np.sqrt(nodal_errors[i] * nodal_errors[i+1])\n",
        "    plt.text(x_pos, y_pos_L2, f\"{L2_rates[i]:.2f}\", fontsize=10, color='b')\n",
        "    plt.text(x_pos, y_pos_nodal, f\"{nodal_rates[i]:.2f}\", fontsize=10, color='r')\n",
        "\n",
        "\n",
        "\n",
        "plt.yscale('log')\n",
        "plt.xlabel(\"n (Number of intervals)\")\n",
        "plt.ylabel(\"Error\")\n",
        "plt.title(\"Convergence of L2 Error & Nodal Error\")\n",
        "plt.legend()\n",
        "plt.grid()\n",
        "plt.show()\n",
        "\n"
      ],
      "metadata": {
        "colab": {
          "base_uri": "https://localhost:8080/",
          "height": 564
        },
        "id": "sCw4Qoyb13Ny",
        "outputId": "0004a8ce-30ec-430d-c37c-63eed321b2ed"
      },
      "execution_count": 16,
      "outputs": [
        {
          "output_type": "display_data",
          "data": {
            "text/plain": [
              "<Figure size 800x600 with 1 Axes>"
            ],
            "image/png": "[encoded data removed]"
          },
          "metadata": {}
        }
      ]
    },
    {
      "cell_type": "code",
      "source": [
        "print(L2_errors)\n",
        "print(L2_rates)"
      ],
      "metadata": {
        "colab": {
          "base_uri": "https://localhost:8080/"
        },
        "id": "opJ_OavH3eSx",
        "outputId": "50aecd3f-4014-48ef-812e-6ffb8552ac36"
      },
      "execution_count": 11,
      "outputs": [
        {
          "output_type": "stream",
          "name": "stdout",
          "text": [
            "[0.015281135603546969, 0.002004420074599656, 0.0002537016012491628, 3.1812821663561354e-05, 3.979745153050527e-06, 4.975664526855613e-07]\n",
            "[-2.930494963018143, -2.981980361604306, -2.995452381414585, -2.998860384114745, -2.999714925964179]\n"
          ]
        }
      ]
    },
    {
      "cell_type": "code",
      "source": [
        "print(nodal_errors)\n",
        "print(nodal_rates)"
      ],
      "metadata": {
        "colab": {
          "base_uri": "https://localhost:8080/"
        },
        "id": "4jBlEnzL5ztw",
        "outputId": "d3fba07d-d838-4aa8-98a2-008ec2ba1aff"
      },
      "execution_count": 12,
      "outputs": [
        {
          "output_type": "stream",
          "name": "stdout",
          "text": [
            "[0.03131992751917689, 0.0038903250978288284, 0.0005566044842701956, 7.448582246283308e-05, 9.635287310238994e-06, 1.1911270174636002e-06]\n",
            "[-3.0091182487209522, -2.80516628323727, -2.901614775683372, -2.9505662596164344, -3.016000421057822]\n"
          ]
        }
      ]
    },
    {
      "cell_type": "code",
      "source": [],
      "metadata": {
        "id": "gI0Znynw55M9"
      },
      "execution_count": null,
      "outputs": []
    }
  ]
}